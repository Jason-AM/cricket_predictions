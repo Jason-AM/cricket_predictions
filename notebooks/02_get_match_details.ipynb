{
 "cells": [
  {
   "cell_type": "code",
   "execution_count": 1,
   "metadata": {},
   "outputs": [],
   "source": [
    "from espncricinfo.match import Match\n",
    "import json\n",
    "from bs4 import BeautifulSoup\n",
    "import pandas as pd\n",
    "import lxml"
   ]
  },
  {
   "cell_type": "code",
   "execution_count": 2,
   "metadata": {},
   "outputs": [],
   "source": [
    "# load year_matchnum_dict\n",
    "with open('/Users/jasonmyers/Documents/Coding_playground/cric/data/ipl_year_match_num.json') as json_file:\n",
    "    year_matchnum_dict = json.load(json_file)\n"
   ]
  },
  {
   "cell_type": "code",
   "execution_count": 110,
   "metadata": {},
   "outputs": [],
   "source": [
    "sample = year_matchnum_dict['2008'][0]"
   ]
  },
  {
   "cell_type": "code",
   "execution_count": 131,
   "metadata": {},
   "outputs": [],
   "source": [
    "def get_bat_bowl_htmls(match_class):\n",
    "    \"\"\"\n",
    "    Gets the html from match number that contains the batsmen in order and bowlers in order\n",
    "    for each innings.\n",
    "    \"\"\"\n",
    "\n",
    "    soup = BeautifulSoup(str(match_class.html), 'lxml')\n",
    "    \n",
    "    bat_inn1 = soup.findAll(\"table\", {\"class\":\"table batsman\"})[0]\n",
    "    bat_inn2 = soup.findAll(\"table\", {\"class\":\"table batsman\"})[1]\n",
    "\n",
    "    bowl_inn1 = soup.findAll(\"table\", {\"class\":\"table bowler\"})[0]\n",
    "    bowl_inn2 = soup.findAll(\"table\", {\"class\":\"table bowler\"})[1]\n",
    "\n",
    "\n",
    "    return (\n",
    "        bat_inn1,\n",
    "        bat_inn2,\n",
    "        bowl_inn1,\n",
    "        bowl_inn2\n",
    "    )"
   ]
  },
  {
   "cell_type": "code",
   "execution_count": 132,
   "metadata": {},
   "outputs": [],
   "source": [
    "def get_player_val_dict(html_script):\n",
    "    \"\"\"\n",
    "    Gets the player number and name based on inputted html script\n",
    "    \"\"\"\n",
    "    \n",
    "    all_players = html_script.findAll(\"a\", {\"class\":\"small\"})\n",
    "    player_dict = {}\n",
    "    for player in all_players:\n",
    "        try:\n",
    "            k = player.contents[0].contents[0]\n",
    "        except AttributeError:\n",
    "            k = player.contents[0]\n",
    "        player_num = str(player.get('href')).split('/')[-1].replace('.html', '')\n",
    "        player_dict[k] = player_num \n",
    "\n",
    "    return player_dict"
   ]
  },
  {
   "cell_type": "code",
   "execution_count": 133,
   "metadata": {},
   "outputs": [],
   "source": [
    "def get_match_summary_info(match):\n",
    "    \"\"\"\n",
    "    Get summary of match including batsmen, bowlers and totals\n",
    "    for each innnings\n",
    "    \"\"\"\n",
    "    \n",
    "    innings1 = match.innings[0]\n",
    "    innings2 = match.innings[1]\n",
    "\n",
    "    (html_bat_inn1, \n",
    "     html_bat_inn2, \n",
    "     html_bowl_inn1, \n",
    "     html_bowl_inn2) = get_bat_bowl_htmls(match)\n",
    "\n",
    "\n",
    "    return {\n",
    "        'innings1': {\n",
    "            'batsmen': get_player_val_dict(html_bat_inn1),\n",
    "            'bowlers': get_player_val_dict(html_bowl_inn1),\n",
    "            'total_runs': innings1['runs'],\n",
    "            'total_wickets': innings1['wickets']\n",
    "        },\n",
    "        'innings2': {\n",
    "            'batsmen': get_player_val_dict(html_bat_inn2),\n",
    "            'bowlers': get_player_val_dict(html_bowl_inn2),\n",
    "            'total_runs': innings2['runs'],\n",
    "            'total_wickets': innings2['wickets']\n",
    "        }\n",
    "    }"
   ]
  },
  {
   "cell_type": "code",
   "execution_count": 134,
   "metadata": {},
   "outputs": [],
   "source": [
    "# create sample match data\n",
    "match = Match(sample)\n",
    "# save data\n",
    "with open('/Users/jasonmyers/Documents/Coding_playground/cric/data/sample_data.json', 'w') as outfile:\n",
    "    json.dump(get_match_summary_info(match), outfile)"
   ]
  },
  {
   "cell_type": "code",
   "execution_count": null,
   "metadata": {},
   "outputs": [],
   "source": []
  },
  {
   "cell_type": "code",
   "execution_count": null,
   "metadata": {},
   "outputs": [],
   "source": []
  }
 ],
 "metadata": {
  "kernelspec": {
   "display_name": "Python 3",
   "language": "python",
   "name": "python3"
  },
  "language_info": {
   "codemirror_mode": {
    "name": "ipython",
    "version": 3
   },
   "file_extension": ".py",
   "mimetype": "text/x-python",
   "name": "python",
   "nbconvert_exporter": "python",
   "pygments_lexer": "ipython3",
   "version": "3.8.5"
  }
 },
 "nbformat": 4,
 "nbformat_minor": 4
}
