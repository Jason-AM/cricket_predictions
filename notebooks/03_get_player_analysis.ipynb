{
 "cells": [
  {
   "cell_type": "code",
   "execution_count": 1,
   "metadata": {},
   "outputs": [],
   "source": [
    "import json\n",
    "import sys\n",
    "import pandas as pd\n",
    "\n",
    "import requests\n",
    "from bs4 import BeautifulSoup\n",
    "from espncricinfo.match import Match"
   ]
  },
  {
   "cell_type": "code",
   "execution_count": 2,
   "metadata": {},
   "outputs": [],
   "source": [
    "def get_html(player_id):\n",
    "    url = \"https://www.espncricinfo.com/ci/content/player/{0}.html\".format(str(player_id))\n",
    "    r = requests.get(url)\n",
    "    if r.status_code == 404:\n",
    "        raise PlayerNotFoundError\n",
    "    else:\n",
    "        soup = BeautifulSoup(r.text, 'html.parser')\n",
    "        return soup"
   ]
  },
  {
   "cell_type": "code",
   "execution_count": 4,
   "metadata": {},
   "outputs": [],
   "source": [
    "# load sample data\n",
    "with open('../data/sample_data.json') as json_file:\n",
    "    sample_data = json.load(json_file)"
   ]
  },
  {
   "cell_type": "code",
   "execution_count": 5,
   "metadata": {},
   "outputs": [
    {
     "data": {
      "text/plain": [
       "{'SC Ganguly': '28779',\n",
       " 'BB McCullum': '37737',\n",
       " 'RT Ponting': '7133',\n",
       " 'DJ Hussey': '5766',\n",
       " 'Mohammad Hafeez': '41434',\n",
       " 'LR Shukla': '34019',\n",
       " 'WP Saha': '279810',\n",
       " 'AB Agarkar': '26184',\n",
       " 'AB Dinda': '227712',\n",
       " 'M Kartik': '30049',\n",
       " 'I Sharma': '236779'}"
      ]
     },
     "execution_count": 5,
     "metadata": {},
     "output_type": "execute_result"
    }
   ],
   "source": [
    "g_num = sample_data['innings1']['batsmen']\n",
    "g_num"
   ]
  },
  {
   "cell_type": "code",
   "execution_count": 6,
   "metadata": {},
   "outputs": [],
   "source": [
    "def get_playing_stats(player_num):\n",
    "    \"\"\"\n",
    "    Gets player stats of choice based on number\n",
    "    \"\"\"\n",
    "    player_html = get_html(player_num)\n",
    "    tables = player_html.findAll('table', class_='engineTable')\n",
    "\n",
    "    batting = pd.read_html(str(tables[0]))[0]\n",
    "    bowl = pd.read_html(str(tables[1]))[0]\n",
    "    batting_stats = batting[['Mat', 'Inns', 'Ave', 'SR', 'BF']]\n",
    "    batting_stats = batting_stats.rename(\n",
    "        columns= {\n",
    "            'Inns': 'bat_inns', \n",
    "            'Ave':'bat_ave', \n",
    "            'SR': 'bat_SR' ,\n",
    "            'BF': 'bat_bf'\n",
    "        }\n",
    "    )\n",
    "    T20batting_stats = batting_stats.iloc[-1]\n",
    "\n",
    "    fielding_stats = batting[['Ct', 'St']]\n",
    "    T20fielding_stats = fielding_stats.iloc[-1]\n",
    "\n",
    "    bowling_stats = bowl[['Wkts', 'Ave', 'Econ', 'SR', 'Balls']]\n",
    "    bowling_stats = bowling_stats.rename(\n",
    "        columns= {\n",
    "            'Ave':'bowl_ave', \n",
    "            'SR': 'bowl_SR' ,\n",
    "            'Econ': 'bowl_econ',\n",
    "            'Balls': 'bowl_balls'\n",
    "        }\n",
    "    )\n",
    "    T20bowling_stats = bowling_stats.iloc[-1]\n",
    "    \n",
    "    return pd.concat(\n",
    "        [T20batting_stats, T20bowling_stats, T20fielding_stats]\n",
    "    )"
   ]
  },
  {
   "cell_type": "code",
   "execution_count": 7,
   "metadata": {},
   "outputs": [
    {
     "data": {
      "text/plain": [
       "Mat             77.00\n",
       "bat_inns        73.00\n",
       "bat_ave         25.01\n",
       "bat_SR         107.00\n",
       "bat_bf        1613.00\n",
       "Wkts            29.00\n",
       "bowl_ave        26.06\n",
       "bowl_econ        7.91\n",
       "bowl_SR         19.70\n",
       "bowl_balls     573.00\n",
       "Ct              28.00\n",
       "St               0.00\n",
       "Name: 4, dtype: float64"
      ]
     },
     "execution_count": 7,
     "metadata": {},
     "output_type": "execute_result"
    }
   ],
   "source": [
    "get_playing_stats('28779')"
   ]
  },
  {
   "cell_type": "code",
   "execution_count": null,
   "metadata": {},
   "outputs": [],
   "source": []
  }
 ],
 "metadata": {
  "kernelspec": {
   "display_name": "Python 3",
   "language": "python",
   "name": "python3"
  },
  "language_info": {
   "codemirror_mode": {
    "name": "ipython",
    "version": 3
   },
   "file_extension": ".py",
   "mimetype": "text/x-python",
   "name": "python",
   "nbconvert_exporter": "python",
   "pygments_lexer": "ipython3",
   "version": "3.8.5"
  }
 },
 "nbformat": 4,
 "nbformat_minor": 4
}
