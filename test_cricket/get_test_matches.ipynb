{
 "cells": [
  {
   "cell_type": "code",
   "execution_count": 41,
   "id": "settled-veteran",
   "metadata": {},
   "outputs": [],
   "source": [
    "import requests\n",
    "from bs4 import BeautifulSoup\n",
    "import pandas as pd\n",
    "import pickle"
   ]
  },
  {
   "cell_type": "code",
   "execution_count": 28,
   "id": "introductory-tiffany",
   "metadata": {},
   "outputs": [],
   "source": [
    "# # get a list of historical test matches score card links\n",
    "\n",
    "# list_of_scorecards = []\n",
    "# for i in range(1, 1000):\n",
    "    \n",
    "#     url = f\"https://stats.espncricinfo.com/ci/engine/stats/index.html?class=1;page={i};template=results;type=team;view=results\"\n",
    "#     try:\n",
    "#         r = requests.get(url)\n",
    "#         if r.status_code == 404:\n",
    "#             raise \"PageNotFound\"\n",
    "#         else:\n",
    "#             soup = BeautifulSoup(r.text, 'html.parser')\n",
    "#             html = soup.findAll('a', string='Match scorecard')\n",
    "#             list_of_scorecards.append(\n",
    "#                 [a['href'] for a in html]\n",
    "#             )\n",
    "#     except:\n",
    "#         print(f\"Page {i} not found, ending this!\")\n",
    "#         break\n",
    "\n",
    "# list_of_scorecards = [f\"https://stats.espncricinfo.com{item}\" for sublist in list_of_scorecards for item in sublist]"
   ]
  },
  {
   "cell_type": "code",
   "execution_count": 29,
   "id": "fatal-namibia",
   "metadata": {},
   "outputs": [],
   "source": [
    "# with open(\"list_of_test_links.txt\", \"wb\") as fp:   #Pickling\n",
    "#     pickle.dump(list_of_scorecards, fp)"
   ]
  },
  {
   "cell_type": "code",
   "execution_count": 30,
   "id": "eleven-customs",
   "metadata": {},
   "outputs": [],
   "source": [
    "# open historical list of test matches score card links\n",
    "with open(\"data/list_of_test_links.txt\", \"rb\") as fp:   # Unpickling\n",
    "    list_of_scorecards = pickle.load(fp)"
   ]
  },
  {
   "cell_type": "code",
   "execution_count": 32,
   "id": "sensitive-commodity",
   "metadata": {},
   "outputs": [
    {
     "data": {
      "text/plain": [
       "'https://stats.espncricinfo.com/ci/engine/match/62396.html'"
      ]
     },
     "execution_count": 32,
     "metadata": {},
     "output_type": "execute_result"
    }
   ],
   "source": [
    "list_of_scorecards[0]"
   ]
  },
  {
   "cell_type": "code",
   "execution_count": 90,
   "id": "seeing-warehouse",
   "metadata": {},
   "outputs": [
    {
     "data": {
      "text/plain": [
       "'Tom Armitage'"
      ]
     },
     "execution_count": 90,
     "metadata": {},
     "output_type": "execute_result"
    }
   ],
   "source": [
    "\n",
    "r = requests.get(list_of_scorecards[0])\n",
    "# if r.status_code == 404:\n",
    "#     raise \"PageNotFound\"\n",
    "# else:\n",
    "#     soup = BeautifulSoup(r.text, 'html.parser')\n",
    "#     tables = soup.findAll('table', class_=\"table batsman\")\n",
    "# #     html = soup.findAll('a', string='Match scorecard')\n",
    "# #     list_of_scorecards.append(\n",
    "# #         [a['href'] for a in html]\n",
    "# #     )\n",
    "#     print( pd.read_html(str( tables[0])))\n",
    "\n",
    "soup = BeautifulSoup(r.text, 'html.parser')\n",
    "tables = soup.findAll('table')\n",
    "# pd.read_html(str( tables[-1]))[-1]\n",
    "player=4\n",
    "# name=tables[0].findAll('a')[i].text#['href']\n",
    "# number = tables[0].findAll('a')[i]['href']\n",
    "player_info = tables[1].findAll('a')[player]\n",
    "name = player_info.text.replace('\\xa0', '')\n",
    "number = player_info['href'].split('/')[-1].replace('.html', '')\n",
    "name"
   ]
  },
  {
   "cell_type": "code",
   "execution_count": null,
   "id": "impressive-nursing",
   "metadata": {},
   "outputs": [],
   "source": []
  }
 ],
 "metadata": {
  "kernelspec": {
   "display_name": "Python 3",
   "language": "python",
   "name": "python3"
  },
  "language_info": {
   "codemirror_mode": {
    "name": "ipython",
    "version": 3
   },
   "file_extension": ".py",
   "mimetype": "text/x-python",
   "name": "python",
   "nbconvert_exporter": "python",
   "pygments_lexer": "ipython3",
   "version": "3.8.5"
  }
 },
 "nbformat": 4,
 "nbformat_minor": 5
}
