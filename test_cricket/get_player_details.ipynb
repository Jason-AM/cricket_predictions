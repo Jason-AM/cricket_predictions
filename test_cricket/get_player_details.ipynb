{
 "cells": [
  {
   "cell_type": "code",
   "execution_count": 1,
   "metadata": {},
   "outputs": [],
   "source": [
    "import json\n",
    "import sys\n",
    "import pandas as pd\n",
    "import numpy as np\n",
    "import matplotlib.pyplot as plt\n",
    "\n",
    "import requests\n",
    "from bs4 import BeautifulSoup\n",
    "from espncricinfo.match import Match"
   ]
  },
  {
   "cell_type": "code",
   "execution_count": 2,
   "metadata": {},
   "outputs": [],
   "source": [
    "def get_player_table(player_id, table_type='batting'):\n",
    "    url = f\"https://stats.espncricinfo.com/ci/engine/player/{player_id}.html?class=1;template=results;type={table_type};view=innings\"\n",
    "    r = requests.get(url)\n",
    "    if r.status_code == 404:\n",
    "        raise PlayerNotFoundError\n",
    "    else:\n",
    "        soup = BeautifulSoup(r.text, 'html.parser')\n",
    "        tables = soup.findAll('table', class_='engineTable')\n",
    "        table = pd.read_html(str(tables[3]))[0]\n",
    "        return table\n"
   ]
  },
  {
   "cell_type": "code",
   "execution_count": 4,
   "metadata": {},
   "outputs": [
    {
     "data": {
      "text/html": [
       "<div>\n",
       "<style scoped>\n",
       "    .dataframe tbody tr th:only-of-type {\n",
       "        vertical-align: middle;\n",
       "    }\n",
       "\n",
       "    .dataframe tbody tr th {\n",
       "        vertical-align: top;\n",
       "    }\n",
       "\n",
       "    .dataframe thead th {\n",
       "        text-align: right;\n",
       "    }\n",
       "</style>\n",
       "<table border=\"1\" class=\"dataframe\">\n",
       "  <thead>\n",
       "    <tr style=\"text-align: right;\">\n",
       "      <th></th>\n",
       "      <th>Dis</th>\n",
       "      <th>Ct</th>\n",
       "      <th>St</th>\n",
       "      <th>Ct Wk</th>\n",
       "      <th>Ct Fi</th>\n",
       "      <th>Inns</th>\n",
       "      <th>Unnamed: 6</th>\n",
       "      <th>Opposition</th>\n",
       "      <th>Ground</th>\n",
       "      <th>Start Date</th>\n",
       "      <th>Unnamed: 10</th>\n",
       "    </tr>\n",
       "  </thead>\n",
       "  <tbody>\n",
       "    <tr>\n",
       "      <th>0</th>\n",
       "      <td>2</td>\n",
       "      <td>2</td>\n",
       "      <td>0</td>\n",
       "      <td>0</td>\n",
       "      <td>2</td>\n",
       "      <td>2</td>\n",
       "      <td>NaN</td>\n",
       "      <td>v England</td>\n",
       "      <td>Melbourne</td>\n",
       "      <td>15 Mar 1877</td>\n",
       "      <td>Test # 1</td>\n",
       "    </tr>\n",
       "    <tr>\n",
       "      <th>1</th>\n",
       "      <td>0</td>\n",
       "      <td>0</td>\n",
       "      <td>0</td>\n",
       "      <td>0</td>\n",
       "      <td>0</td>\n",
       "      <td>4</td>\n",
       "      <td>NaN</td>\n",
       "      <td>v England</td>\n",
       "      <td>Melbourne</td>\n",
       "      <td>15 Mar 1877</td>\n",
       "      <td>Test # 1</td>\n",
       "    </tr>\n",
       "  </tbody>\n",
       "</table>\n",
       "</div>"
      ],
      "text/plain": [
       "   Dis  Ct  St  Ct Wk  Ct Fi  Inns  Unnamed: 6 Opposition     Ground  \\\n",
       "0    2   2   0      0      2     2         NaN  v England  Melbourne   \n",
       "1    0   0   0      0      0     4         NaN  v England  Melbourne   \n",
       "\n",
       "    Start Date Unnamed: 10  \n",
       "0  15 Mar 1877    Test # 1  \n",
       "1  15 Mar 1877    Test # 1  "
      ]
     },
     "execution_count": 4,
     "metadata": {},
     "output_type": "execute_result"
    }
   ],
   "source": [
    "get_player_table(4625, 'fielding')"
   ]
  },
  {
   "cell_type": "code",
   "execution_count": 99,
   "metadata": {},
   "outputs": [],
   "source": [
    "batting['Runs'] = batting['Runs'].replace({'DNB':np.nan, 'sub':np.nan})"
   ]
  },
  {
   "cell_type": "code",
   "execution_count": 101,
   "metadata": {},
   "outputs": [],
   "source": [
    "runs = batting['Runs'].str.replace('*', '').astype(float)"
   ]
  },
  {
   "cell_type": "code",
   "execution_count": 98,
   "metadata": {},
   "outputs": [
    {
     "data": {
      "text/plain": [
       "<matplotlib.collections.PathCollection at 0x7ff9d378a5e0>"
      ]
     },
     "execution_count": 98,
     "metadata": {},
     "output_type": "execute_result"
    },
    {
     "data": {
      "image/png": "[encoded data removed]",
      "text/plain": [
       "<Figure size 432x288 with 1 Axes>"
      ]
     },
     "metadata": {
      "needs_background": "light"
     },
     "output_type": "display_data"
    }
   ],
   "source": [
    "# s = np.random.exponential(61, 140)\n",
    "# plt.scatter(range(len(s)), np.sort(s)[::-1]/np.sort(s)[::-1].max()*runs.max() )\n",
    "s = np.random.power(61, 140)\n",
    "plt.scatter(range(len(s)), (1- np.sort(s))/(1- np.sort(s)).max()*runs.max() )"
   ]
  },
  {
   "cell_type": "code",
   "execution_count": 110,
   "metadata": {},
   "outputs": [
    {
     "data": {
      "text/plain": [
       "[<matplotlib.lines.Line2D at 0x7ff9d416f370>]"
      ]
     },
     "execution_count": 110,
     "metadata": {},
     "output_type": "execute_result"
    },
    {
     "data": {
      "image/png": "[encoded data removed]",
      "text/plain": [
       "<Figure size 432x288 with 1 Axes>"
      ]
     },
     "metadata": {
      "needs_background": "light"
     },
     "output_type": "display_data"
    }
   ],
   "source": [
    "runs = 0\n",
    "outs = 0\n",
    "running_average = []\n",
    "for i in batting['Runs'].dropna():\n",
    "    if i != np.nan:\n",
    "        if '*' not in i:\n",
    "            runs+=float(i)\n",
    "            outs+=1\n",
    "            running_average.append(runs/outs)\n",
    "        else:\n",
    "            i_s = i.replace('*', '')\n",
    "            runs+=float(i_s)\n",
    "            running_average.append(runs/outs)\n",
    "plt.plot(running_average)"
   ]
  },
  {
   "cell_type": "code",
   "execution_count": null,
   "metadata": {},
   "outputs": [],
   "source": []
  }
 ],
 "metadata": {
  "kernelspec": {
   "display_name": "Python 3",
   "language": "python",
   "name": "python3"
  },
  "language_info": {
   "codemirror_mode": {
    "name": "ipython",
    "version": 3
   },
   "file_extension": ".py",
   "mimetype": "text/x-python",
   "name": "python",
   "nbconvert_exporter": "python",
   "pygments_lexer": "ipython3",
   "version": "3.8.5"
  }
 },
 "nbformat": 4,
 "nbformat_minor": 4
}
