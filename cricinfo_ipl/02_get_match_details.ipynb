{
 "cells": [
  {
   "cell_type": "code",
   "execution_count": 3,
   "metadata": {},
   "outputs": [],
   "source": [
    "from espncricinfo.match import Match\n",
    "import json\n",
    "from bs4 import BeautifulSoup\n",
    "import pandas as pd\n",
    "import lxml"
   ]
  },
  {
   "cell_type": "code",
   "execution_count": 4,
   "metadata": {},
   "outputs": [],
   "source": [
    "# load year_matchnum_dict\n",
    "with open('../data/ipl_year_match_num.json') as json_file:\n",
    "    year_matchnum_dict = json.load(json_file)\n"
   ]
  },
  {
   "cell_type": "code",
   "execution_count": 5,
   "metadata": {},
   "outputs": [],
   "source": [
    "sample = year_matchnum_dict['2008'][0]"
   ]
  },
  {
   "cell_type": "code",
   "execution_count": 6,
   "metadata": {},
   "outputs": [],
   "source": [
    "def get_bat_bowl_htmls(match_class):\n",
    "    \"\"\"\n",
    "    Gets the html from match number that contains the batsmen in order and bowlers in order\n",
    "    for each innings.\n",
    "    \"\"\"\n",
    "\n",
    "    soup = BeautifulSoup(str(match_class.html), 'lxml')\n",
    "    \n",
    "    bat_inn1 = soup.findAll(\"table\", {\"class\":\"table batsman\"})[0]\n",
    "    bat_inn2 = soup.findAll(\"table\", {\"class\":\"table batsman\"})[1]\n",
    "\n",
    "    bowl_inn1 = soup.findAll(\"table\", {\"class\":\"table bowler\"})[0]\n",
    "    bowl_inn2 = soup.findAll(\"table\", {\"class\":\"table bowler\"})[1]\n",
    "\n",
    "\n",
    "    return (\n",
    "        bat_inn1,\n",
    "        bat_inn2,\n",
    "        bowl_inn1,\n",
    "        bowl_inn2\n",
    "    )"
   ]
  },
  {
   "cell_type": "code",
   "execution_count": 7,
   "metadata": {},
   "outputs": [],
   "source": [
    "def get_player_val_dict(html_script):\n",
    "    \"\"\"\n",
    "    Gets the player number and name based on inputted html script\n",
    "    \"\"\"\n",
    "    \n",
    "    all_players = html_script.findAll(\"a\", {\"class\":\"small\"})\n",
    "    player_dict = {}\n",
    "    for player in all_players:\n",
    "        try:\n",
    "            k = player.contents[0].contents[0]\n",
    "        except AttributeError:\n",
    "            k = player.contents[0]\n",
    "        player_num = str(player.get('href')).split('/')[-1].replace('.html', '')\n",
    "        player_dict[k] = player_num \n",
    "\n",
    "    return player_dict"
   ]
  },
  {
   "cell_type": "code",
   "execution_count": 8,
   "metadata": {},
   "outputs": [],
   "source": [
    "def get_match_summary_info(match):\n",
    "    \"\"\"\n",
    "    Get summary of match including batsmen, bowlers and totals\n",
    "    for each innnings\n",
    "    \"\"\"\n",
    "    \n",
    "    innings1 = match.innings[0]\n",
    "    innings2 = match.innings[1]\n",
    "\n",
    "    (html_bat_inn1, \n",
    "     html_bat_inn2, \n",
    "     html_bowl_inn1, \n",
    "     html_bowl_inn2) = get_bat_bowl_htmls(match)\n",
    "\n",
    "\n",
    "    return {\n",
    "        'innings1': {\n",
    "            'batsmen': get_player_val_dict(html_bat_inn1),\n",
    "            'bowlers': get_player_val_dict(html_bowl_inn1),\n",
    "            'total_runs': innings1['runs'],\n",
    "            'total_wickets': innings1['wickets']\n",
    "        },\n",
    "        'innings2': {\n",
    "            'batsmen': get_player_val_dict(html_bat_inn2),\n",
    "            'bowlers': get_player_val_dict(html_bowl_inn2),\n",
    "            'total_runs': innings2['runs'],\n",
    "            'total_wickets': innings2['wickets']\n",
    "        }\n",
    "    }"
   ]
  },
  {
   "cell_type": "code",
   "execution_count": 9,
   "metadata": {},
   "outputs": [
    {
     "ename": "FileNotFoundError",
     "evalue": "[Errno 2] No such file or directory: '/Users/jasonmyers/Documents/Coding_playground/cric/data/sample_data.json'",
     "output_type": "error",
     "traceback": [
      "\u001b[0;31m---------------------------------------------------------------------------\u001b[0m",
      "\u001b[0;31mFileNotFoundError\u001b[0m                         Traceback (most recent call last)",
      "\u001b[0;32m<ipython-input-9-10f49b1cef6f>\u001b[0m in \u001b[0;36m<module>\u001b[0;34m\u001b[0m\n\u001b[1;32m      2\u001b[0m \u001b[0mmatch\u001b[0m \u001b[0;34m=\u001b[0m \u001b[0mMatch\u001b[0m\u001b[0;34m(\u001b[0m\u001b[0msample\u001b[0m\u001b[0;34m)\u001b[0m\u001b[0;34m\u001b[0m\u001b[0;34m\u001b[0m\u001b[0m\n\u001b[1;32m      3\u001b[0m \u001b[0;31m# save data\u001b[0m\u001b[0;34m\u001b[0m\u001b[0;34m\u001b[0m\u001b[0;34m\u001b[0m\u001b[0m\n\u001b[0;32m----> 4\u001b[0;31m \u001b[0;32mwith\u001b[0m \u001b[0mopen\u001b[0m\u001b[0;34m(\u001b[0m\u001b[0;34m'/Users/jasonmyers/Documents/Coding_playground/cric/data/sample_data.json'\u001b[0m\u001b[0;34m,\u001b[0m \u001b[0;34m'w'\u001b[0m\u001b[0;34m)\u001b[0m \u001b[0;32mas\u001b[0m \u001b[0moutfile\u001b[0m\u001b[0;34m:\u001b[0m\u001b[0;34m\u001b[0m\u001b[0;34m\u001b[0m\u001b[0m\n\u001b[0m\u001b[1;32m      5\u001b[0m     \u001b[0mjson\u001b[0m\u001b[0;34m.\u001b[0m\u001b[0mdump\u001b[0m\u001b[0;34m(\u001b[0m\u001b[0mget_match_summary_info\u001b[0m\u001b[0;34m(\u001b[0m\u001b[0mmatch\u001b[0m\u001b[0;34m)\u001b[0m\u001b[0;34m,\u001b[0m \u001b[0moutfile\u001b[0m\u001b[0;34m)\u001b[0m\u001b[0;34m\u001b[0m\u001b[0;34m\u001b[0m\u001b[0m\n",
      "\u001b[0;31mFileNotFoundError\u001b[0m: [Errno 2] No such file or directory: '/Users/jasonmyers/Documents/Coding_playground/cric/data/sample_data.json'"
     ]
    }
   ],
   "source": [
    "# create sample match data\n",
    "match = Match(sample)\n",
    "# save data\n",
    "with open('/Users/jasonmyers/Documents/Coding_playground/cric/data/sample_data.json', 'w') as outfile:\n",
    "    json.dump(get_match_summary_info(match), outfile)"
   ]
  },
  {
   "cell_type": "code",
   "execution_count": null,
   "metadata": {},
   "outputs": [],
   "source": []
  },
  {
   "cell_type": "code",
   "execution_count": null,
   "metadata": {},
   "outputs": [],
   "source": []
  }
 ],
 "metadata": {
  "kernelspec": {
   "display_name": "Python 3",
   "language": "python",
   "name": "python3"
  },
  "language_info": {
   "codemirror_mode": {
    "name": "ipython",
    "version": 3
   },
   "file_extension": ".py",
   "mimetype": "text/x-python",
   "name": "python",
   "nbconvert_exporter": "python",
   "pygments_lexer": "ipython3",
   "version": "3.8.5"
  }
 },
 "nbformat": 4,
 "nbformat_minor": 4
}
