{
 "cells": [
  {
   "cell_type": "code",
   "execution_count": 2,
   "metadata": {},
   "outputs": [],
   "source": [
    "from gevent import monkey as curious_george\n",
    "curious_george.patch_all(thread=False, select=False)\n",
    "\n",
    "from espncricinfo.match import Match\n",
    "from espncricinfo.summary import Summary\n",
    "from tqdm import tqdm\n",
    "from espncricinfo.series import Series\n",
    "import json"
   ]
  },
  {
   "cell_type": "code",
   "execution_count": 4,
   "metadata": {},
   "outputs": [],
   "source": [
    "# get IPLs\n",
    "ipl = Series('8048')\n",
    "# get all ipl years\n",
    "ipl_yrs = ipl.years"
   ]
  },
  {
   "cell_type": "code",
   "execution_count": 5,
   "metadata": {},
   "outputs": [
    {
     "name": "stderr",
     "output_type": "stream",
     "text": [
      "100%|██████████| 13/13 [03:24<00:00, 15.69s/it]\n"
     ]
    }
   ],
   "source": [
    "# create a dict of year to match number\n",
    "ipl_year_match_dict = {}\n",
    "\n",
    "# get all match numbers\n",
    "for year in tqdm(ipl_yrs):\n",
    "    match_ids = [\n",
    "        details['match_id'] for details \n",
    "        in ipl.get_events_for_season(year)\n",
    "    ]\n",
    "    ipl_year_match_dict[year] = match_ids\n",
    "    \n",
    "\n"
   ]
  },
  {
   "cell_type": "code",
   "execution_count": 6,
   "metadata": {},
   "outputs": [],
   "source": [
    "# save data\n",
    "with open('/Users/jasonmyers/Documents/Coding_playground/cric/data/ipl_year_match_num.json', 'w') as outfile:\n",
    "    json.dump(ipl_year_match_dict, outfile)"
   ]
  },
  {
   "cell_type": "code",
   "execution_count": null,
   "metadata": {},
   "outputs": [],
   "source": []
  }
 ],
 "metadata": {
  "kernelspec": {
   "display_name": "Python 3",
   "language": "python",
   "name": "python3"
  },
  "language_info": {
   "codemirror_mode": {
    "name": "ipython",
    "version": 3
   },
   "file_extension": ".py",
   "mimetype": "text/x-python",
   "name": "python",
   "nbconvert_exporter": "python",
   "pygments_lexer": "ipython3",
   "version": "3.8.5"
  }
 },
 "nbformat": 4,
 "nbformat_minor": 4
}
