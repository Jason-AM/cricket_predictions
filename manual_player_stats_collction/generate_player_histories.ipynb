{
 "cells": [
  {
   "cell_type": "code",
   "execution_count": 1,
   "metadata": {},
   "outputs": [],
   "source": [
    "from gevent import monkey as curious_george\n",
    "curious_george.patch_all(thread=False, select=False)\n",
    "from espncricinfo.series import Series\n",
    "\n",
    "from espncricinfo.match import Match\n",
    "import json\n",
    "from bs4 import BeautifulSoup\n",
    "import pandas as pd\n",
    "import lxml"
   ]
  },
  {
   "cell_type": "markdown",
   "metadata": {},
   "source": [
    "## Find match numbers which corespond to test series."
   ]
  },
  {
   "cell_type": "code",
   "execution_count": null,
   "metadata": {},
   "outputs": [],
   "source": []
  },
  {
   "cell_type": "code",
   "execution_count": null,
   "metadata": {},
   "outputs": [
    {
     "name": "stdout",
     "output_type": "stream",
     "text": [
      "England tour of Sri Lanka 2020/21\n"
     ]
    },
    {
     "name": "stderr",
     "output_type": "stream",
     "text": [
      "KeyboardInterrupt\n",
      "2021-01-23T13:58:22Z\n"
     ]
    },
    {
     "name": "stdout",
     "output_type": "stream",
     "text": [
      "Logan Cup\n",
      "West Indies A in New Zealand unofficial Test Series 2020/21\n",
      "Emirates D20\n",
      "Pakistan A in New Zealand unofficial Test Match 2020/21\n",
      "Pakistan Shaheens tour of New Zealand 2020/21\n",
      "West Indies A tour of New Zealand 2020/21\n"
     ]
    },
    {
     "name": "stderr",
     "output_type": "stream",
     "text": [
      "KeyboardInterrupt\n",
      "2021-01-23T14:01:11Z\n"
     ]
    }
   ],
   "source": [
    "for i in range(1242951, 124000, -1):\n",
    "    try:\n",
    "        s = Series(str(i))\n",
    "        print(s.name)\n",
    "    except:\n",
    "        pass"
   ]
  },
  {
   "cell_type": "code",
   "execution_count": 2,
   "metadata": {},
   "outputs": [],
   "source": [
    "# load year_matchnum_dict\n",
    "with open('/Users/jasonmyers/Documents/Coding_playground/cric/data/ipl_year_match_num.json') as json_file:\n",
    "    year_matchnum_dict = json.load(json_file)\n"
   ]
  },
  {
   "cell_type": "code",
   "execution_count": 110,
   "metadata": {},
   "outputs": [],
   "source": [
    "sample = year_matchnum_dict['2008'][0]"
   ]
  },
  {
   "cell_type": "code",
   "execution_count": 131,
   "metadata": {},
   "outputs": [],
   "source": [
    "def get_bat_bowl_htmls(match_class):\n",
    "    \"\"\"\n",
    "    Gets the html from match number that contains the batsmen in order and bowlers in order\n",
    "    for each innings.\n",
    "    \"\"\"\n",
    "\n",
    "    soup = BeautifulSoup(str(match_class.html), 'lxml')\n",
    "    \n",
    "    bat_inn1 = soup.findAll(\"table\", {\"class\":\"table batsman\"})[0]\n",
    "    bat_inn2 = soup.findAll(\"table\", {\"class\":\"table batsman\"})[1]\n",
    "\n",
    "    bowl_inn1 = soup.findAll(\"table\", {\"class\":\"table bowler\"})[0]\n",
    "    bowl_inn2 = soup.findAll(\"table\", {\"class\":\"table bowler\"})[1]\n",
    "\n",
    "\n",
    "    return (\n",
    "        bat_inn1,\n",
    "        bat_inn2,\n",
    "        bowl_inn1,\n",
    "        bowl_inn2\n",
    "    )"
   ]
  },
  {
   "cell_type": "code",
   "execution_count": 132,
   "metadata": {},
   "outputs": [],
   "source": [
    "def get_player_val_dict(html_script):\n",
    "    \"\"\"\n",
    "    Gets the player number and name based on inputted html script\n",
    "    \"\"\"\n",
    "    \n",
    "    all_players = html_script.findAll(\"a\", {\"class\":\"small\"})\n",
    "    player_dict = {}\n",
    "    for player in all_players:\n",
    "        try:\n",
    "            k = player.contents[0].contents[0]\n",
    "        except AttributeError:\n",
    "            k = player.contents[0]\n",
    "        player_num = str(player.get('href')).split('/')[-1].replace('.html', '')\n",
    "        player_dict[k] = player_num \n",
    "\n",
    "    return player_dict"
   ]
  },
  {
   "cell_type": "code",
   "execution_count": 133,
   "metadata": {},
   "outputs": [],
   "source": [
    "def get_match_summary_info(match):\n",
    "    \"\"\"\n",
    "    Get summary of match including batsmen, bowlers and totals\n",
    "    for each innnings\n",
    "    \"\"\"\n",
    "    \n",
    "    innings1 = match.innings[0]\n",
    "    innings2 = match.innings[1]\n",
    "\n",
    "    (html_bat_inn1, \n",
    "     html_bat_inn2, \n",
    "     html_bowl_inn1, \n",
    "     html_bowl_inn2) = get_bat_bowl_htmls(match)\n",
    "\n",
    "\n",
    "    return {\n",
    "        'innings1': {\n",
    "            'batsmen': get_player_val_dict(html_bat_inn1),\n",
    "            'bowlers': get_player_val_dict(html_bowl_inn1),\n",
    "            'total_runs': innings1['runs'],\n",
    "            'total_wickets': innings1['wickets']\n",
    "        },\n",
    "        'innings2': {\n",
    "            'batsmen': get_player_val_dict(html_bat_inn2),\n",
    "            'bowlers': get_player_val_dict(html_bowl_inn2),\n",
    "            'total_runs': innings2['runs'],\n",
    "            'total_wickets': innings2['wickets']\n",
    "        }\n",
    "    }"
   ]
  },
  {
   "cell_type": "code",
   "execution_count": 134,
   "metadata": {},
   "outputs": [],
   "source": [
    "# create sample match data\n",
    "match = Match(sample)\n",
    "# save data\n",
    "with open('/Users/jasonmyers/Documents/Coding_playground/cric/data/sample_data.json', 'w') as outfile:\n",
    "    json.dump(get_match_summary_info(match), outfile)"
   ]
  },
  {
   "cell_type": "code",
   "execution_count": null,
   "metadata": {},
   "outputs": [],
   "source": []
  },
  {
   "cell_type": "code",
   "execution_count": 7,
   "metadata": {},
   "outputs": [
    {
     "name": "stdout",
     "output_type": "stream",
     "text": [
      "2021-01-22 04:30:00\n",
      "Test\n",
      "---\n",
      "2021-01-14 04:30:00\n",
      "Test\n",
      "---\n",
      "2020-12-15 08:00:00\n",
      "First-class\n",
      "---\n",
      "2020-12-15 08:00:00\n",
      "First-class\n",
      "---\n",
      "2020-12-09 08:00:00\n",
      "First-class\n",
      "---\n",
      "2020-12-09 08:00:00\n",
      "First-class\n",
      "---\n",
      "2020-12-24 13:00:00\n",
      "\n",
      "---\n",
      "2020-12-23 16:00:00\n",
      "\n",
      "---\n",
      "2020-12-23 12:00:00\n",
      "\n",
      "---\n",
      "2020-12-22 17:00:00\n",
      "\n",
      "---\n",
      "2020-12-22 13:00:00\n",
      "\n",
      "---\n",
      "2020-12-22 09:00:00\n",
      "\n",
      "---\n",
      "2020-12-21 17:00:00\n",
      "\n",
      "---\n",
      "2020-12-21 13:00:00\n",
      "\n",
      "---\n",
      "2020-12-21 09:00:00\n",
      "\n",
      "---\n",
      "2020-12-20 17:00:00\n",
      "\n",
      "---\n",
      "2020-12-20 13:00:00\n",
      "\n",
      "---\n",
      "2020-12-20 09:00:00\n",
      "\n",
      "---\n",
      "2020-12-17 17:00:00\n",
      "\n",
      "---\n",
      "2020-12-17 13:00:00\n",
      "\n",
      "---\n",
      "2020-12-17 09:00:00\n",
      "\n",
      "---\n",
      "2020-12-16 17:00:00\n",
      "\n",
      "---\n",
      "2020-12-16 13:00:00\n",
      "\n",
      "---\n",
      "2020-12-15 17:00:00\n",
      "\n",
      "---\n",
      "2020-12-15 13:00:00\n",
      "\n",
      "---\n",
      "2020-12-15 09:00:00\n",
      "\n",
      "---\n",
      "2020-12-12 17:00:00\n",
      "\n",
      "---\n",
      "2020-12-12 13:00:00\n",
      "\n",
      "---\n",
      "2020-12-12 09:00:00\n",
      "\n",
      "---\n",
      "2020-12-11 17:00:00\n",
      "\n",
      "---\n",
      "2020-12-11 13:00:00\n",
      "\n",
      "---\n",
      "2020-12-11 09:00:00\n",
      "\n",
      "---\n",
      "2020-12-07 17:00:00\n",
      "\n",
      "---\n",
      "2020-12-07 13:00:00\n",
      "\n",
      "---\n",
      "2020-12-07 09:00:00\n",
      "\n",
      "---\n",
      "2020-12-06 17:00:00\n",
      "\n",
      "---\n",
      "2020-12-06 13:00:00\n",
      "\n",
      "---\n",
      "2020-12-06 09:00:00\n",
      "\n",
      "---\n",
      "2021-01-04 22:00:00\n",
      "\n",
      "---\n",
      "2021-01-02 22:00:00\n",
      "\n",
      "---\n",
      "2021-01-01 01:00:00\n",
      "\n",
      "---\n",
      "2020-12-29 01:40:00\n",
      "\n",
      "---\n",
      "2020-12-27 03:00:00\n",
      "\n",
      "---\n",
      "2020-12-16 22:00:00\n",
      "First-class\n",
      "---\n",
      "2020-12-10 22:00:00\n",
      "First-class\n",
      "---\n",
      "2020-12-02 22:00:00\n",
      "First-class\n",
      "---\n"
     ]
    }
   ],
   "source": [
    "for i in range(1243016, 1240000, -1):\n",
    "    try:\n",
    "        m = Match(str(i))\n",
    "\n",
    "        print(m.start_datetime_gmt)\n",
    "        print(m.match_class)\n",
    "        print('---')\n",
    "    except:\n",
    "        pass"
   ]
  },
  {
   "cell_type": "code",
   "execution_count": null,
   "metadata": {},
   "outputs": [],
   "source": []
  }
 ],
 "metadata": {
  "kernelspec": {
   "display_name": "Python 3",
   "language": "python",
   "name": "python3"
  },
  "language_info": {
   "codemirror_mode": {
    "name": "ipython",
    "version": 3
   },
   "file_extension": ".py",
   "mimetype": "text/x-python",
   "name": "python",
   "nbconvert_exporter": "python",
   "pygments_lexer": "ipython3",
   "version": "3.8.5"
  }
 },
 "nbformat": 4,
 "nbformat_minor": 4
}
